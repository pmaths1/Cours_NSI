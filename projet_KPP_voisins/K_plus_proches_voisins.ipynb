{
 "cells": [
  {
   "cell_type": "markdown",
   "metadata": {},
   "source": [
    "# Algorithme des *k* plus proches voisins\n",
    "\n",
    "En guise d'initiation au problème d'apprentissage supervisé, nous allons implanter et manipuler l'algorithme des *k* plus proches voisins.\n",
    "\n",
    "L'objectif de ce TP est de faire reconnaître automatiquement par l'ordinateur des chiffres manuscrits (pour lire des chèques, lire des codes postaux par exemple). ![enveloppe](lettres.jpg)"
   ]
  },
  {
   "cell_type": "markdown",
   "metadata": {},
   "source": [
    "## 1. Lecture du jeux d'exemples\n",
    "\n",
    "Avant même d'implanter l'algorithme des *k* plus proches voisins, nous avons besoin d'exemples qui seront traités par l'algorithme. Aussi, commençons par lire un jeu de données.\n",
    "\n",
    "Il s'agit d'un jeu de données très célèbre appelé MNIST. Il est constitué d'un ensemble de 70000 images, 28x28 pixels, en noir et blanc annoté du chiffre correspondant (entre 0 et 9). Ce jeu utilise des données réelles qui ont déjà été pré-traitées pour être plus facilement utilisables par un algorithme.\n",
    "\n",
    "![Un extrait du type d'images que l'on trouve dans le dataset MNIST](extrait_MNIST.png)\n",
    "\n",
    "Le jeu de données est relativement petit mais pour l'algorithme des *k* plus proches voisins, il est déjà trop gros pour obtenir rapidement des résultats. On va donc effectuer un échantillonnage et travailler sur seulement 5000 données."
   ]
  },
  {
   "cell_type": "code",
   "execution_count": null,
   "metadata": {},
   "outputs": [],
   "source": [
    "from sklearn.datasets import fetch_openml\n",
    "import random\n",
    "\n",
    "#Récupère le jeu de données MNIST\n",
    "mnist = fetch_openml('mnist_784',cache=True, version = 1, data_home = '/home/pascal/Dropbox/cours/NSI/projet_bloc1/')"
   ]
  },
  {
   "cell_type": "code",
   "execution_count": 43,
   "metadata": {},
   "outputs": [],
   "source": [
    "#Créé un échantillon de 5000 données à partir du jeu de données MNIST\n",
    "tailleEchantillon = 5000\n",
    "echantillon = sorted(random.sample(range(70000), tailleEchantillon))\n",
    "\n",
    "listeImages = mnist.data[echantillon]\n",
    "listeChiffres = mnist.target[echantillon]\n",
    "\n",
    "#Récupère une image qui n'est pas dans notre échantillon\n",
    "test = random.randint(1,70000)-1\n",
    "while test in sample:\n",
    "    test = random.randint(1,70000)-1\n",
    "\n",
    "chiffreTest = mnist.target[test]\n",
    "imageTest = mnist.data[test]"
   ]
  },
  {
   "cell_type": "markdown",
   "metadata": {},
   "source": [
    "On obtient deux listes, **listeImages** et **listeChiffres**.\n",
    "<ul>\n",
    "<li> listeImages contient les images sous forme d'une liste 28*28 = 784 entiers compris entre 0 et 255 correspondant aux différentes nuances de gris (255 étant blanc et 0 noir)</li>\n",
    "<li> listeChiffres contient les chiffres correspondant à l'image</li>\n",
    "</ul>"
   ]
  },
  {
   "cell_type": "markdown",
   "metadata": {},
   "source": [
    "Afficher la liste correspondant à la 2423ème image du jeu de données. A quel chiffre corrrespond cette image ?"
   ]
  },
  {
   "cell_type": "code",
   "execution_count": 53,
   "metadata": {},
   "outputs": [
    {
     "name": "stdout",
     "output_type": "stream",
     "text": [
      "[  0.   0.   0.   0.   0.   0.   0.   0.   0.   0.   0.   0.   0.   0.\n",
      "   0.   0.   0.   0.   0.   0.   0.   0.   0.   0.   0.   0.   0.   0.\n",
      "   0.   0.   0.   0.   0.   0.   0.   0.   0.   0.   0.   0.   0.   0.\n",
      "   0.   0.   0.   0.   0.   0.   0.   0.   0.   0.   0.   0.   0.   0.\n",
      "   0.   0.   0.   0.   0.   0.   0.   0.   0.   0.   0.   0.   0.   0.\n",
      "   0.   0.   0.   0.   0.   0.   0.   0.   0.   0.   0.   0.   0.   0.\n",
      "   0.   0.   0.   0.   0.   0.   0.   0.   0.   0.   0.   0.   0.   0.\n",
      "   0.   0.   0.   0.   0.   0.   0.   0.   0.   0.   0.   0.   0.   0.\n",
      "   0.   0.   0.   0.   0.   0.   0.   0.   0.   0.  64. 128. 191. 255.\n",
      " 255. 255. 128.   0.   0.   0.   0.   0.   0.   0.   0.   0.   0.   0.\n",
      "   0.   0.   0.   0.   0.   0.   0.   0.   0. 128. 255. 255. 255. 255.\n",
      " 255. 255. 255. 128.   0.   0.   0.   0.   0.   0.   0.   0.   0.   0.\n",
      "   0.   0.   0.   0.   0.   0.   0.  64. 255. 255. 255. 255. 128. 128.\n",
      " 191. 255. 255. 128.   0.   0.   0.   0.   0.   0.   0.   0.   0.   0.\n",
      "   0.   0.   0.   0.   0.   0.  64. 255. 255. 191.  64.   0.   0.   0.\n",
      "   0. 255. 255. 128.   0.   0.   0.   0.   0.   0.   0.   0.   0.   0.\n",
      "   0.   0.   0.   0.   0.   0. 128. 255. 128.   0.   0.   0.   0.   0.\n",
      "  64. 255. 255. 128.   0.   0.   0.   0.   0.   0.   0.   0.   0.   0.\n",
      "   0.   0.   0.   0.   0.   0. 191.   0.   0.   0.   0.   0.   0.   0.\n",
      " 191. 255. 255. 128.   0.   0.   0.   0.   0.   0.   0.   0.   0.   0.\n",
      "   0.   0.   0.   0.   0.   0.   0.   0.   0.   0.   0.   0.   0. 191.\n",
      " 255. 255. 255.  64.   0.   0.   0.   0.   0.   0.   0.   0.   0.   0.\n",
      "   0.   0.   0.   0.   0.   0.   0.   0.   0.   0.   0.   0.  64. 255.\n",
      " 255. 255. 255. 255. 191.   0.   0.   0.   0.   0.   0.   0.   0.   0.\n",
      "   0.   0.   0.   0.   0.   0.   0.   0.   0.   0.   0. 191. 255. 255.\n",
      " 255. 255. 255. 255. 255. 255.  64.   0.   0.   0.   0.   0.   0.   0.\n",
      "   0.   0.   0.   0.   0.   0.   0.   0.   0.   0. 191. 255. 255. 255.\n",
      " 191. 128. 128. 191. 255. 255. 191.  64.   0.   0.   0.   0.   0.   0.\n",
      "   0.   0.   0.   0.   0.   0.   0.   0.   0.   0. 255. 255. 255. 128.\n",
      "   0.   0.   0.   0. 128. 255. 255. 191.   0.   0.   0.   0.   0.   0.\n",
      "   0.   0.   0.   0.   0.   0.   0.   0.   0.   0. 255. 255.  64.   0.\n",
      "   0.   0.   0.   0.   0. 255. 255. 255.   0.   0.   0.   0.   0.   0.\n",
      "   0.   0.   0.   0.   0.   0.   0.   0.   0.   0. 128.  64.   0.   0.\n",
      "   0.   0.   0.   0.   0. 128. 255. 255.   0.   0.   0.   0.   0.   0.\n",
      "   0.   0.   0.   0.   0.   0.   0.   0.   0.   0.   0.   0.   0.   0.\n",
      "  64.   0.   0.   0.   0. 191. 255. 255.   0.   0.   0.   0.   0.   0.\n",
      "   0.   0.   0.   0.   0.   0.   0.   0.   0.   0.   0. 191. 255. 255.\n",
      " 128.   0.   0.   0.   0. 255. 255. 255.   0.   0.   0.   0.   0.   0.\n",
      "   0.   0.   0.   0.   0.   0.   0.   0.   0.   0. 191. 255. 255. 191.\n",
      "   0.   0.   0.   0. 191. 255. 255. 128.   0.   0.   0.   0.   0.   0.\n",
      "   0.   0.   0.   0.   0.   0.   0.   0.  64. 191. 255. 255. 191.   0.\n",
      "   0.   0.  64. 191. 255. 255. 255.   0.   0.   0.   0.   0.   0.   0.\n",
      "   0.   0.   0.   0.   0.   0.   0.   0. 128. 255. 255. 255. 191. 128.\n",
      " 128. 255. 255. 255. 255. 255.  64.   0.   0.   0.   0.   0.   0.   0.\n",
      "   0.   0.   0.   0.   0.   0.   0.   0.  64. 255. 255. 255. 255. 255.\n",
      " 255. 255. 255. 255. 255.  64.   0.   0.   0.   0.   0.   0.   0.   0.\n",
      "   0.   0.   0.   0.   0.   0.   0.   0.   0.  64. 191. 255. 255. 255.\n",
      " 255. 255. 128.  64.   0.   0.   0.   0.   0.   0.   0.   0.   0.   0.\n",
      "   0.   0.   0.   0.   0.   0.   0.   0.   0.   0.   0.   0.   0.   0.\n",
      "   0.   0.   0.   0.   0.   0.   0.   0.   0.   0.   0.   0.   0.   0.\n",
      "   0.   0.   0.   0.   0.   0.   0.   0.   0.   0.   0.   0.   0.   0.\n",
      "   0.   0.   0.   0.   0.   0.   0.   0.   0.   0.   0.   0.   0.   0.\n",
      "   0.   0.   0.   0.   0.   0.   0.   0.   0.   0.   0.   0.   0.   0.\n",
      "   0.   0.   0.   0.   0.   0.   0.   0.   0.   0.   0.   0.   0.   0.\n",
      "   0.   0.   0.   0.   0.   0.   0.   0.   0.   0.   0.   0.   0.   0.\n",
      "   0.   0.   0.   0.   0.   0.   0.   0.   0.   0.   0.   0.   0.   0.] \n",
      "\n",
      "Le chiffre représenté est : 3\n"
     ]
    }
   ],
   "source": [
    "print(listeImages[2423],'\\n')\n",
    "\n",
    "print('Le chiffre représenté est :', listeChiffres[2423])"
   ]
  },
  {
   "cell_type": "markdown",
   "metadata": {},
   "source": [
    "## 2. Déterminer le plus proche voisin d'un point\n",
    "### Distance entre deux images\n",
    "Avant toute chose, il nous faut définir une fonction qui mesure la distance entre deux images. Les images sont des images [PGM](https://fr.wikipedia.org/wiki/Portable_pixmap#Fichier_binaire_2), c'est à dire en niveau de gris.\n",
    "\n",
    "* Pour tous les pixels de l'image on calcule la différence des valeurs d'intensité, dont on supprime le signe (abs)\n",
    "* On somme toutes ces différences\n",
    "\n",
    "![comparaison](distance_eleve.png)\n",
    "\n",
    "1. Pour les deux images précédentes, déterminez la distance.\n",
    "2. Écrire une fonction qui calcule la distance entre deux images. Une image sera représentée comme une liste des valeurs de gris des pixels"
   ]
  },
  {
   "cell_type": "code",
   "execution_count": 31,
   "metadata": {},
   "outputs": [],
   "source": [
    "def distance (image1, image2):\n",
    "    somme = 0\n",
    "    for i in range(784):\n",
    "        somme += abs(image1[i] - image2[i])\n",
    "    return (somme)"
   ]
  },
  {
   "cell_type": "code",
   "execution_count": 45,
   "metadata": {},
   "outputs": [
    {
     "data": {
      "text/plain": [
       "35578.0"
      ]
     },
     "execution_count": 45,
     "metadata": {},
     "output_type": "execute_result"
    }
   ],
   "source": [
    "image1 = listeImages[2423]\n",
    "distance(image1,imageTest)"
   ]
  },
  {
   "cell_type": "markdown",
   "metadata": {},
   "source": [
    "### Le plus proche voisin\n",
    "Écrire une fonction lePlusProcheVoisin qui prend en paramètre une image (une liste de 784 entiers compris entre 0 et 255) et renvoie l'indice dans data du plus proche voisin."
   ]
  },
  {
   "cell_type": "code",
   "execution_count": 46,
   "metadata": {},
   "outputs": [],
   "source": [
    "def lePlusProcheVoisin (image):\n",
    "    lePlusPres = 0\n",
    "    distanceMin = float(\"inf\")\n",
    "    for i in range(len(listeImages)):\n",
    "        di = distance (image, listeImages[i])\n",
    "        if di < distanceMin:\n",
    "            lePlusPres = i\n",
    "            distanceMin = di\n",
    "    return (lePlusPres)"
   ]
  },
  {
   "cell_type": "code",
   "execution_count": 60,
   "metadata": {},
   "outputs": [
    {
     "name": "stdout",
     "output_type": "stream",
     "text": [
      "0\n",
      "0\n"
     ]
    }
   ],
   "source": [
    "indice = lePlusProcheVoisin(imageTest)\n",
    "print(listeChiffres[indice])\n",
    "print(chiffreTest)"
   ]
  },
  {
   "cell_type": "markdown",
   "metadata": {},
   "source": [
    "## 3. Déterminer les *k* plus proches voisins d'un point\n",
    "Écrire une fonction lesKplusProchesVoisins qui prend en paramètre une image et une valeur de k et renvoie la liste des indices dans data des k plus proches voisins.\n",
    "Quand vous prenez k = 1, cette fonction doit renvoyer le même résultat que la précédente, mis à part le fait que lePlusProcheVoisin renvoie une valeur numérique alors que lesKplusProchesVoisins renvoie une liste d'un élément."
   ]
  },
  {
   "cell_type": "code",
   "execution_count": 58,
   "metadata": {},
   "outputs": [],
   "source": [
    "#Première version qui boucle k fois sur listeImages\n",
    "def lesKplusProchesVoisins (image, k):\n",
    "    listeDesDistances = []\n",
    "    for img in listeImages:\n",
    "        listeDesDistances.append (distance (image, img))\n",
    "    voisins = []\n",
    "    for i in range (k):\n",
    "        p = float (\"inf\")\n",
    "        for j in range (len (data)):\n",
    "            if listeDesDistances [j] < p and j not in voisins:\n",
    "                p = listeDesDistances [j]\n",
    "                indice = j\n",
    "        voisins. append (indice)\n",
    "    return (voisins)\n",
    "\n",
    "\n",
    "#Deuxième version de l'algorithme qui utilise une fonction de trie\n",
    "from operator import itemgetter\n",
    "\n",
    "def lesKplusProchesVoisins (image, k):\n",
    "    listeDesDistances = []\n",
    "    for i in range(len(listeImages)):\n",
    "        di = distance(image, listeImages[i])\n",
    "        listeDesDistances.append((i,di))\n",
    "    listeDesDistances.sort(key=itemgetter(1))\n",
    "    voisins=[]\n",
    "    for i in range(k):\n",
    "        voisins.append(listeDesDistances[i][0])\n",
    "    return (voisins)"
   ]
  },
  {
   "cell_type": "code",
   "execution_count": 61,
   "metadata": {},
   "outputs": [
    {
     "name": "stdout",
     "output_type": "stream",
     "text": [
      "['0', '0', '0', '0', '0', '0', '0', '0', '0', '0']\n"
     ]
    }
   ],
   "source": [
    "voisins = lesKplusProchesVoisins (imageTest, 10)\n",
    "print([listeChiffres[indice] for indice in voisins])"
   ]
  },
  {
   "cell_type": "markdown",
   "metadata": {},
   "source": [
    "## 4. Prédire l'étiquette d'une donnée\n",
    "\n",
    "Écrire une fonction *predire* qui prend en paramètre une image dans le même format que celles de data et un entier *k* et retourne le chiffre qui est prédit, c'est à dire le chiffre qui est supposé être représenté sur l'iamge.\n",
    "On décide du chiffre représenté sur l'image en appliquant un choix à la majorité, à savoir le chiffre qui apparaît majoritairement sur les *k* plus proches voisins."
   ]
  },
  {
   "cell_type": "code",
   "execution_count": 67,
   "metadata": {},
   "outputs": [],
   "source": [
    "def predire (image,k):\n",
    "    voisins = lesKplusProchesVoisins(image,k)\n",
    "    decomptes = {'0':0, '1':0, '2':0 , '3':0, '4':0, '5':0, '6':0, '7':0 , '8':0, '9':0}\n",
    "    for indice in voisins:\n",
    "        decomptes[listeChiffres[indice]] += 1\n",
    "    plusGrandDecompte = 0\n",
    "    for i in '0123456789':\n",
    "        if decomptes [i] > plusGrandDecompte:\n",
    "                plusGrandDecompte = decomptes [i]\n",
    "                indice = i\n",
    "    return indice\n"
   ]
  },
  {
   "cell_type": "code",
   "execution_count": 68,
   "metadata": {},
   "outputs": [
    {
     "name": "stdout",
     "output_type": "stream",
     "text": [
      "0\n",
      "0\n"
     ]
    }
   ],
   "source": [
    "print(predire(imageTest,5))\n",
    "print(chiffreTest)"
   ]
  },
  {
   "cell_type": "markdown",
   "metadata": {},
   "source": [
    "## 5. Optimisation"
   ]
  },
  {
   "cell_type": "code",
   "execution_count": 86,
   "metadata": {},
   "outputs": [],
   "source": [
    "#séparation du jeu de données en training set et testing set (0.8/0.2)\n",
    "tailleEchantillon = 5000\n",
    "echantillon = random.sample(range(70000), tailleEchantillon)\n",
    "\n",
    "echantillonEntrainement = echantillon[:4000]\n",
    "echantillonTest = echantillon[4000:]\n",
    "\n",
    "imagesEntrainement = mnist.data[echantillonEntrainement]\n",
    "chiffresEntrainement = mnist.target[echantillonEntrainement]\n",
    "\n",
    "imagesTest = mnist.data[echantillonTest]\n",
    "chiffresTest = mnist.target[echantillonTest]\n",
    "\n",
    "#redéfinition de la fonction lesKplusProchesVoisins pour lui donner en paramètre l'ensemble d'entrainement\n",
    "def lesKplusProchesVoisins (image, k,entrainementData):\n",
    "    listeDesDistances = []\n",
    "    for i in range(len(entrainementData)):\n",
    "        di = distance(image, entrainementData[i])\n",
    "        listeDesDistances.append((i,di))\n",
    "    listeDesDistances.sort(key=itemgetter(1))\n",
    "    voisins=[]\n",
    "    for i in range(k):\n",
    "        voisins.append(listeDesDistances[i][0])\n",
    "    return (voisins)\n",
    "#redéfinition de la fonction prédire pour lui donner les images d'entrainement et les chiffres correspondant en paramètre\n",
    "def predire (image,k,entrainementTarget,entrainementData):\n",
    "    voisins = lesKplusProchesVoisins(image,k,entrainementData)\n",
    "    decomptes = {'0':0, '1':0, '2':0 , '3':0, '4':0, '5':0, '6':0, '7':0 , '8':0, '9':0}\n",
    "    for indice in voisins:\n",
    "        decomptes[entrainementTarget[indice]] += 1\n",
    "    plusGrandDecompte = 0\n",
    "    for i in '0123456789':\n",
    "        if decomptes [i] > plusGrandDecompte:\n",
    "                plusGrandDecompte = decomptes [i]\n",
    "                indice = i\n",
    "    return indice\n",
    "\n",
    "def tauxErreur(k):\n",
    "    '''\n",
    "    calcule le taux d'erreur avec la valeur k pour les k plus proches voisins\n",
    "    '''\n",
    "    t=0\n",
    "    n=len(imagesTest)\n",
    "    for i in range(n):\n",
    "        if predire(imagesTest[i],k,chiffresEntrainement,imagesEntrainement)!=chiffresTest[i]:\n",
    "            t+=1\n",
    "        if(i % 50 == 0 and i != 0):\n",
    "            print(\"Taux d'erreurs pour %s images : %s\" % (i,t/i))\n",
    "    return t/n\n",
    "\n",
    "def optimisation(n):\n",
    "    '''\n",
    "    détermine quelle valeur de k donne la meilleure prédiction, avec k entre 1 et n\n",
    "    '''\n",
    "    listeTaux=[tauxErreur(k) for k in range(1,n+1)]\n",
    "    return listeTaux.index(min(liste_taux))+1"
   ]
  },
  {
   "cell_type": "code",
   "execution_count": 87,
   "metadata": {},
   "outputs": [
    {
     "name": "stdout",
     "output_type": "stream",
     "text": [
      "Taux d'erreurs pour 50 images : 0.04\n",
      "Taux d'erreurs pour 100 images : 0.03\n",
      "Taux d'erreurs pour 150 images : 0.06666666666666667\n",
      "Taux d'erreurs pour 200 images : 0.06\n",
      "Taux d'erreurs pour 250 images : 0.06\n",
      "Taux d'erreurs pour 300 images : 0.06\n",
      "Taux d'erreurs pour 350 images : 0.054285714285714284\n",
      "Taux d'erreurs pour 400 images : 0.0575\n",
      "Taux d'erreurs pour 450 images : 0.057777777777777775\n",
      "Taux d'erreurs pour 500 images : 0.064\n",
      "Taux d'erreurs pour 550 images : 0.07090909090909091\n",
      "Taux d'erreurs pour 600 images : 0.07333333333333333\n",
      "Taux d'erreurs pour 650 images : 0.06923076923076923\n",
      "Taux d'erreurs pour 700 images : 0.07\n",
      "Taux d'erreurs pour 750 images : 0.06933333333333333\n",
      "Taux d'erreurs pour 800 images : 0.07125\n",
      "Taux d'erreurs pour 850 images : 0.07176470588235294\n",
      "Taux d'erreurs pour 900 images : 0.07222222222222222\n",
      "Taux d'erreurs pour 950 images : 0.07473684210526316\n"
     ]
    },
    {
     "data": {
      "text/plain": [
       "0.076"
      ]
     },
     "execution_count": 87,
     "metadata": {},
     "output_type": "execute_result"
    }
   ],
   "source": [
    "tauxErreur(1)"
   ]
  },
  {
   "cell_type": "code",
   "execution_count": null,
   "metadata": {},
   "outputs": [],
   "source": []
  }
 ],
 "metadata": {
  "kernelspec": {
   "display_name": "Python 3",
   "language": "python",
   "name": "python3"
  },
  "language_info": {
   "codemirror_mode": {
    "name": "ipython",
    "version": 3
   },
   "file_extension": ".py",
   "mimetype": "text/x-python",
   "name": "python",
   "nbconvert_exporter": "python",
   "pygments_lexer": "ipython3",
   "version": "3.6.5"
  }
 },
 "nbformat": 4,
 "nbformat_minor": 2
}
