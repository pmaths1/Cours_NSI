{
 "cells": [
  {
   "cell_type": "markdown",
   "metadata": {},
   "source": [
    "# Algorithme des *k* plus proches voisins\n",
    "Le lien vers [openclassroom](https://openclassrooms.com/fr/courses/4011851-initiez-vous-au-machine-learning/4022441-tp-entrainez-le-modele-des-k-plus-proches-voisins-k-nn)\n",
    "\n",
    "Celui vers le [TP de l'université de Lille donné dans moodle](http://www.grappa.univ-lille3.fr/~ppreux/ensg/miashs/l3-ap/tps/kppv/)\n",
    "\n",
    "L'objectif de ce TP est de faire reconnaître automatiquement par l'ordinateur des chiffres manuscrits (pour lire des chèques, lire des codes postaux par exemple). ![enveloppe](lettres.jpg)"
   ]
  },
  {
   "cell_type": "markdown",
   "metadata": {},
   "source": [
    "## 1. Lecture du jeux d'exemples\n",
    "\n",
    "Avant même d'implanter l'algorithme des *k* plus proches voisins, nous avons besoin d'exemples qui seront traités par l'algorithme. Aussi, commençons par lire un jeu de données.\n",
    "\n",
    "Il s'agit d'un jeu de données très célèbre appelé MNIST. Il est constitué d'un ensemble de 70000 images, 28x28 pixels, en noir et blanc annoté du chiffre correspondant (entre 0 et 9). Ce jeu utilise des données réelles qui ont déjà été pré-traitées pour être plus facilement utilisables par un algorithme.\n",
    "\n",
    "![Un extrait du type d'images que l'on trouve dans le dataset MNIST](extrait_MNIST.png)\n",
    "\n",
    "Le jeu de données est relativement petit mais pour l'algorithme des *k* plus proches voisins, il est déjà trop gros pour obtenir rapidement des résultats. On va donc effectuer un échantillonnage et travailler sur seulement 5000 données."
   ]
  },
  {
   "cell_type": "markdown",
   "metadata": {},
   "source": [
    "## 2. Déterminer le plus proche voisin d'un point\n",
    "### 2.1Distance entre deux images"
   ]
  },
  {
   "cell_type": "markdown",
   "metadata": {},
   "source": [
    "\n",
    "\n",
    "Pour évaluer la différence entre deux images, on va définir une distance entre deux images. Les images sont des images [PGM](https://fr.wikipedia.org/wiki/Portable_pixmap#Fichier_binaire_2), c'est à dire en niveau de gris.\n",
    "\n",
    "* Pour tous les pixels de l'image on calcule la différence des valeurs d'intensité, dont on supprime le signe (abs)\n",
    "* On somme toutes ces différences\n",
    "\n",
    "![comparaison](distance_eleve.png)\n",
    "\n",
    "1. Pour les deux images précédentes, déterminez la distance.\n",
    "2. Écrire une fonction qui calcule la distance entre deux images. Une image sera représentée comme une liste des valeurs de gris des pixels"
   ]
  },
  {
   "cell_type": "code",
   "execution_count": null,
   "metadata": {},
   "outputs": [],
   "source": [
    "def distance (a, b):\n",
    "    somme = 0\n",
    "    for i in range (784):\n",
    "        somme += abs(a[i] - b [i]) \n",
    "    return somme\n",
    "\n",
    "def distance(a,b):\n",
    "    return sum([abs(a[i]-b[i]) for i in range(784)])"
   ]
  },
  {
   "cell_type": "markdown",
   "metadata": {},
   "source": [
    "### 2.2 Exemple d'utilisation\n",
    "\n",
    "Nous allons calculer la distance entre quelques chiffres manuscrits.\n",
    "\n",
    "|image1|image2|image3|\n",
    "|------|------|-----|\n",
    "|![chiffre5](ecrit1.png)|![chiffre5](ecrit2.png)|![chiffre5](ecrit3.png)|\n",
    "\n",
    "On cherche à comparer la première image aux deux suivantes. Bien que nous voyons tout de suite le résultat, déterminer les distances.\n",
    "\n",
    "**Librairie PIL:**\n",
    "* ouvrir une image `Image.open(nom du fichier)`\n",
    "* Récuperer les valeurs des pixels de notre image `monimage.getdata()`, il faut la transformer en liste avec la commande `list(...)`\n"
   ]
  },
  {
   "cell_type": "code",
   "execution_count": null,
   "metadata": {},
   "outputs": [],
   "source": [
    "from PIL import Image\n",
    "from IPython.display import display\n",
    "\n",
    "ecrit1 = Image.open(\"ecrit1.pgm\")\n",
    "# met l'image dans un tableau qui est de dimension 784\n",
    "img1 =list(ecrit1.getdata())\n",
    "\n",
    "ecrit2 = Image.open(\"ecrit2.pgm\")\n",
    "# met l'image dans un tableau qui est de dimension 784\n",
    "img1 =list(ecrit1.getdata())\n",
    "\n",
    "ecrit3 = Image.open(\"ecrit3.pgm\")\n",
    "# met l'image dans un tableau qui est de dimension 784\n",
    "img1 =list(ecrit1.getdata())\n",
    "\n",
    "d12 = distance(img1,img2)\n",
    "d13 = distance(img1,img3)\n",
    "\n",
    "if d13<d12:\n",
    "    print(\"image 1 est plus proche de l'image de 3 que de l'image 2\")\n",
    "else:\n",
    "    print(\"image 1 est plus proche de l'image de 2 que de l'image 3\")\n",
    "display(ecrit1)"
   ]
  },
  {
   "cell_type": "markdown",
   "metadata": {},
   "source": [
    "## 3. Parcours le jeu de données"
   ]
  },
  {
   "cell_type": "markdown",
   "metadata": {},
   "source": [
    "Le jeu de données est relativement petit mais pour l'algorithme des k plus proches voisins, il est déjà trop gros pour obtenir rapidement des résultats. On va donc effectuer un échantillonnage et travailler sur seulement 5000 données.\n",
    "\n",
    "On obtient deux listes, **data** et **target**.\n",
    "* data contient les images sous forme d'une liste 28*28 = 784 entiers compris entre 0 et 255 correspondant aux différentes nuances de gris (255 étant blanc et 0 noir)\n",
    "* target contient les chiffres correspondant à l'image</li>\n"
   ]
  },
  {
   "cell_type": "code",
   "execution_count": null,
   "metadata": {},
   "outputs": [],
   "source": [
    "from sklearn.datasets import fetch_openml\n",
    "\n",
    "mnist = fetch_openml('mnist_784', version=1)\n",
    "\n",
    "print(mnist.data.shape)\n",
    "\n",
    "print(mnist.target.shape)"
   ]
  },
  {
   "cell_type": "code",
   "execution_count": null,
   "metadata": {},
   "outputs": [],
   "source": [
    "import numpy as np\n",
    "\n",
    "sample = np.random.randint(70000, size=5000)\n",
    "\n",
    "data = mnist.data[sample]\n",
    "data = map(lambda x: map(int,x),data)\n",
    "\n",
    "target = mnist.target[sample]\n",
    "target = map(int,target)"
   ]
  },
  {
   "cell_type": "markdown",
   "metadata": {},
   "source": [
    "Afficher la liste correspondant à la 23ème image du jeu de données. A quel chiffre corrrespond cette image ?"
   ]
  },
  {
   "cell_type": "code",
   "execution_count": null,
   "metadata": {},
   "outputs": [],
   "source": [
    "print (data[23],'\\n')\n",
    "\n",
    "print ('Le chiffre represente est :', target[23])"
   ]
  },
  {
   "cell_type": "markdown",
   "metadata": {},
   "source": [
    "Dans la cellule ci-dessous vous allez prendre deux élèments de notre jeu de données, calculer la distance entre ces deux images et indiquer le chiffre qu'il représente"
   ]
  },
  {
   "cell_type": "code",
   "execution_count": null,
   "metadata": {},
   "outputs": [],
   "source": [
    "image1 = data[23]\n",
    "image2 = data[65]\n",
    "distance(image1,image2)\n",
    "target[23]"
   ]
  },
  {
   "cell_type": "markdown",
   "metadata": {},
   "source": [
    "## 4. Déterminer les *k* plus proches voisins d'un point"
   ]
  },
  {
   "cell_type": "markdown",
   "metadata": {},
   "source": [
    "### 4.1 Le plus proche voisin avec le jeu de données"
   ]
  },
  {
   "cell_type": "markdown",
   "metadata": {},
   "source": [
    "Écrire une fonction lePlusProcheVoisin qui prend en paramètre une image (une liste de 784 entiers compris entre 0 et 255) et renvoie l'indice dans data du plus proche voisin."
   ]
  },
  {
   "cell_type": "code",
   "execution_count": null,
   "metadata": {},
   "outputs": [],
   "source": [
    "def lePlusProcheVoisin (image):\n",
    "    lePlusPres = 0\n",
    "    distanceMin = float(\"inf\")\n",
    "    for i in range(len(data)):\n",
    "        di = distance (image, data[i])\n",
    "        if di != 0 and di < distanceMin:\n",
    "            lePlusPres = i\n",
    "            distanceMin = di\n",
    "    return (lePlusPres)"
   ]
  },
  {
   "cell_type": "code",
   "execution_count": null,
   "metadata": {},
   "outputs": [],
   "source": [
    "indice = lePlusProcheVoisin(image1)\n",
    "print(target[indice])\n",
    "print(target[23])"
   ]
  },
  {
   "cell_type": "markdown",
   "metadata": {},
   "source": [
    "## 3. Déterminer les *k* plus proches voisins d'un point\n",
    "Écrire une fonction lesKplusProchesVoisins qui prend en paramètre une image et une valeur de k et renvoie la liste des indices dans data des k plus proches voisins.\n",
    "Quand vous prenez k = 1, cette fonction doit renvoyer le même résultat que la précédente, mis à part le fait que lePlusProcheVoisin renvoie une valeur numérique alors que lesKplusProchesVoisins renvoie une liste d'un élément."
   ]
  },
  {
   "cell_type": "code",
   "execution_count": null,
   "metadata": {},
   "outputs": [],
   "source": [
    "def lesKplusProchesVoisins (image, k):\n",
    "    listeDesDistances = []\n",
    "    for img in data:\n",
    "        listeDesDistances.append (distance (image, img))\n",
    "    Kppv = []\n",
    "    for i in range (k):\n",
    "        p = float (\"inf\")\n",
    "        for j in range (len (data)):\n",
    "            if listeDesDistances [j] != 0 and listeDesDistances [j] < p and j not in Kppv:\n",
    "                p = listeDesDistances [j]\n",
    "                indice = j\n",
    "        Kppv. append (indice)\n",
    "    return (Kppv)\n"
   ]
  },
  {
   "cell_type": "code",
   "execution_count": null,
   "metadata": {},
   "outputs": [],
   "source": [
    "Kppv = lesKplusProchesVoisins (image1, 5)\n",
    "print [target[indice] for indice in Kppv]"
   ]
  },
  {
   "cell_type": "markdown",
   "metadata": {},
   "source": [
    "## 4. Prédire l'étiquette d'une donnée\n",
    "\n",
    "Écrire une fonction *predire* qui prend en paramètre une image dans le même format que celles de data et un entier *k* et retourne le chiffre qui est prédit, c'est à dire le chiffre qui est supposé être représenté sur l'iamge.\n",
    "On décide du chiffre représenté sur l'image en appliquant un choix à la majorité, à savoir le chiffre qui apparaît majoritairement sur les *k* plus proches voisins."
   ]
  },
  {
   "cell_type": "code",
   "execution_count": null,
   "metadata": {},
   "outputs": [],
   "source": [
    "def predire (l,k):\n",
    "    Kppv = lesKplusProchesVoisins(l,k)\n",
    "    decomptes = [0]*10\n",
    "    for indice in Kppv:\n",
    "        decomptes[target[indice]] += 1\n",
    "    plusGrandDecompte = decomptes [0]\n",
    "    for i in range (1,10):\n",
    "        if decomptes [i] > plusGrandDecompte:\n",
    "                plusGrandDecompte = decomptes [i]\n",
    "                indice = i\n",
    "    return indice\n"
   ]
  },
  {
   "cell_type": "code",
   "execution_count": null,
   "metadata": {},
   "outputs": [],
   "source": [
    "predire(image1,5)\n"
   ]
  },
  {
   "cell_type": "markdown",
   "metadata": {},
   "source": [
    "## 5. Optimisation"
   ]
  },
  {
   "cell_type": "code",
   "execution_count": null,
   "metadata": {},
   "outputs": [],
   "source": [
    "from data_target_test import data as data_test,target as target_test\n",
    "\n",
    "def taux_erreur(k):\n",
    "    '''\n",
    "    calcule le taux d'erreur avec la valeur k pour les k plus proches voisins\n",
    "    '''\n",
    "    t=0\n",
    "    n=100#len(target_test)\n",
    "    for i in range(n):\n",
    "        if predire(data_test[i],k)!=target_test[i]:\n",
    "            t+=1\n",
    "    return t/n\n",
    "\n",
    "def optimisation(n):\n",
    "    '''\n",
    "    détermine quelle valeur de k donne la meilleure prédiction, avec k entre 1 et n\n",
    "    '''\n",
    "    liste_taux=[taux_erreur(k) for k in range(1,n+1)]\n",
    "    return liste_taux.index(min(liste_taux))+1"
   ]
  },
  {
   "cell_type": "code",
   "execution_count": null,
   "metadata": {},
   "outputs": [],
   "source": [
    "taux_erreur(1)"
   ]
  }
 ],
 "metadata": {
  "kernelspec": {
   "display_name": "Python 3",
   "language": "python",
   "name": "python3"
  },
  "language_info": {
   "codemirror_mode": {
    "name": "ipython",
    "version": 3
   },
   "file_extension": ".py",
   "mimetype": "text/x-python",
   "name": "python",
   "nbconvert_exporter": "python",
   "pygments_lexer": "ipython3",
   "version": "3.7.3rc1"
  }
 },
 "nbformat": 4,
 "nbformat_minor": 2
}
