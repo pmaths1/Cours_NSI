{
 "cells": [
  {
   "cell_type": "markdown",
   "metadata": {},
   "source": [
    "# Algorithme des *k* plus proches voisins\n",
    "\n",
    "L'objectif de ce TP est de mettre en œuvre une méthode, celle des $k$ plus proches voisins, qui permet à l’ordinateur de reconnaître automatiquement des chiffres manuscrits (pour lire des chèques, lire des codes postaux par exemple). ![enveloppe](lettres.jpg)\n",
    "\n",
    "Les chiffres seront donnés sous forme d’images, puisqu’ils sont scannés par une machine avant d’être traités par l’ordinateur.\n",
    "\n",
    "## 1. Distance entre deux images\n",
    "\n",
    "### 1.1. Définition d’une distance particulière\n",
    "\n",
    "Pour évaluer la différence entre deux images, on va définir une distance entre deux images. Les images que nous traiterons sont au format [PGM](https://fr.wikipedia.org/wiki/Portable_pixmap#Fichier_binaire_2), c'est à dire en niveau de gris.\n",
    "\n",
    "* Pour tous les pixels de l'image on calcule la différence des valeurs d'intensité, dont on supprime le signe (abs)\n",
    "* On somme toutes ces différences\n",
    "\n",
    "1. Déterminer à la main la distance entre les deux images ci-dessous.\n",
    "\n",
    "![comparaison](distance_eleve.png)\n",
    "\n",
    "La distance vaut : (compléter) 2×(255−255)+(255−191)+3×(255−0)+(191−40)+(0−0)+(191−0)=1171\n",
    "\n",
    "2. Écrire une fonction qui calcule la distance entre deux images. Une image sera représentée comme une liste d’entiers, valeurs de gris des pixels."
   ]
  },
  {
   "cell_type": "code",
   "execution_count": 1,
   "metadata": {},
   "outputs": [],
   "source": [
    "def distance (a, b):\n",
    "    somme = 0\n",
    "    for i in range (len(a)):\n",
    "        somme += abs(a[i] - b [i]) \n",
    "    return somme\n",
    "\n",
    "def distance(a,b):\n",
    "    return sum([abs(a[i]-b[i]) for i in range(len(a))])"
   ]
  },
  {
   "cell_type": "markdown",
   "metadata": {},
   "source": [
    "### 2.2. Exemple d'utilisation\n",
    "\n",
    "Nous allons calculer la distance entre les images suivantes :\n",
    "\n",
    "|ecrit1.pgm|ecrit2.pgm|ecrit3.pgm|\n",
    "|------|------|-----|\n",
    "|![chiffre5](ecrit1.png)|![chiffre5](ecrit2.png)|![chiffre5](ecrit3.png)|\n",
    "\n",
    "On cherche à comparer la première image aux deux suivantes. Bien sûr, nous savons très bien dire quelle image lui ressemble le plus. Cependant notre but étant d’avoir un moyen automatique, nous devons vérifier que celui que nous utilisons fonctionne bien.\n",
    "\n",
    "3. Déterminer les distances entre la première image avec chacune des deux autres, et déterminer alors laquelle est la plus proche de la première.\n",
    "\n",
    "Pour cela, on utilise la librairie de manipulation d’images PIL.\n",
    "\n",
    "**Utilisation de la librairie PIL :**\n",
    "* ouvrir une image `Image.open(nom du fichier)`\n",
    "* Récuperer les valeurs des pixels de notre image `monimage.getdata()`, il faut la transformer en liste avec la commande `list(...)`\n"
   ]
  },
  {
   "cell_type": "code",
   "execution_count": 18,
   "metadata": {},
   "outputs": [
    {
     "name": "stdout",
     "output_type": "stream",
     "text": [
      "ecrit1.pgm est plus proche de ecrit2.pgm que de ecrit3.pgm\n"
     ]
    }
   ],
   "source": [
    "from PIL import Image\n",
    "\n",
    "ecrit1 = Image.open(\"ecrit1.pgm\")\n",
    "# met l'image dans un tableau qui est de dimension 784\n",
    "img1 =list(ecrit1.getdata())\n",
    "\n",
    "ecrit2 = Image.open(\"ecrit2.pgm\")\n",
    "# met l'image dans un tableau qui est de dimension 784\n",
    "img2 =list(ecrit1.getdata())\n",
    "\n",
    "ecrit3 = Image.open(\"ecrit3.pgm\")\n",
    "# met l'image dans un tableau qui est de dimension 784\n",
    "img3 =list(ecrit1.getdata())\n",
    "\n",
    "d12 = distance(img1,img2)\n",
    "d13 = distance(img1,img3)\n",
    "\n",
    "if d13<d12:\n",
    "    print(\"ecrit1.pgm est plus proche de ecrit3.pgm que de ecrit2.pgm\")\n",
    "else:\n",
    "    print(\"ecrit1.pgm est plus proche de ecrit2.pgm que de ecrit3.pgm\")"
   ]
  },
  {
   "cell_type": "markdown",
   "metadata": {},
   "source": [
    "## 2. Parcours d’un jeu de données\n",
    "\n",
    "### 1. Principe\n",
    "\n",
    "Avant même d'implanter l'algorithme des *k* plus proches voisins, nous avons besoin d'exemples qui seront traités par celui-ci. Aussi, commençons par lire un jeu de données.\n",
    "\n",
    "Il s'agit du jeu de données, très utilisé en apprentissage automatique, appelé MNIST. Il est constitué d'un ensemble de 70000 images, de format 28x28 pixels, en noir et blanc annoté du chiffre correspondant (entre 0 et 9). Ce jeu utilise des données réelles qui ont déjà été pré-traitées pour être plus facilement utilisables par notre algorithme.\n",
    "\n",
    "![Un extrait du type d'images que l'on trouve dans le dataset MNIST](extrait_MNIST.png)\n",
    "\n",
    "Nous prendrons de cette base de données un extrait de 5000 données uniquement, afin de limiter les temps de calcul de notre algorithme.\n",
    "\n",
    "Il nous faut obtenir deux listes, **data** et **target**.\n",
    "\n",
    "* **data** contient les images sous forme d'une liste de 28*28 = 784 entiers compris entre 0 et 255 correspondant aux différentes nuances de gris (255 étant blanc et 0 noir)\n",
    "* **target** contient les chiffres (de type int) correspondant à l'image\n",
    "\n",
    "Tout d’abord on récupère la base de donnée complète (cela peut prendre beaucoup de temps) :"
   ]
  },
  {
   "cell_type": "code",
   "execution_count": 3,
   "metadata": {},
   "outputs": [],
   "source": [
    "from sklearn.datasets import fetch_openml # Note : il faut avoir installé la librairie sklearn pour python\n",
    "\n",
    "mnist = fetch_openml('mnist_784', version=1)"
   ]
  },
  {
   "cell_type": "markdown",
   "metadata": {},
   "source": [
    "Ensuite on en prend l’extrait que l’on met sous la forme qui nous convient (on aura besoin de 1000 autres images plus tard, d’où les 6000) :"
   ]
  },
  {
   "cell_type": "code",
   "execution_count": 4,
   "metadata": {},
   "outputs": [],
   "source": [
    "import numpy as np\n",
    "\n",
    "sample = np.random.randint(70000, size=6000)\n",
    "\n",
    "data = [mnist.data[i].astype(int).tolist() for i in sample[:5000]]\n",
    "\n",
    "target = [int(mnist.target[i]) for i in sample[:5000]]"
   ]
  },
  {
   "cell_type": "markdown",
   "metadata": {},
   "source": [
    "4. Afficher la liste correspondant à l’image d’indice 23 du jeu de données. À quel chiffre corrrespond cette image ?"
   ]
  },
  {
   "cell_type": "code",
   "execution_count": 5,
   "metadata": {},
   "outputs": [
    {
     "name": "stdout",
     "output_type": "stream",
     "text": [
      "[0, 0, 0, 0, 0, 0, 0, 0, 0, 0, 0, 0, 0, 0, 0, 0, 0, 0, 0, 0, 0, 0, 0, 0, 0, 0, 0, 0, 0, 0, 0, 0, 0, 0, 0, 0, 0, 0, 0, 0, 0, 0, 0, 0, 0, 0, 0, 0, 0, 0, 0, 0, 0, 0, 0, 0, 0, 0, 0, 0, 0, 0, 0, 0, 0, 0, 0, 0, 0, 0, 0, 0, 0, 0, 0, 0, 0, 0, 0, 0, 0, 0, 0, 0, 0, 0, 0, 0, 0, 0, 0, 0, 0, 0, 0, 0, 0, 0, 0, 0, 0, 0, 0, 0, 0, 0, 0, 0, 0, 0, 0, 0, 0, 0, 0, 0, 0, 0, 0, 0, 0, 0, 0, 0, 0, 0, 0, 0, 0, 0, 0, 0, 0, 0, 0, 0, 0, 0, 0, 0, 0, 0, 0, 0, 0, 0, 0, 0, 0, 0, 0, 24, 76, 153, 255, 169, 72, 0, 0, 0, 0, 0, 0, 0, 0, 0, 0, 0, 0, 0, 0, 0, 0, 0, 0, 0, 0, 0, 73, 227, 253, 253, 253, 253, 156, 0, 0, 0, 0, 0, 0, 0, 0, 0, 0, 0, 0, 0, 0, 0, 0, 0, 0, 0, 1, 41, 239, 253, 252, 148, 213, 253, 183, 0, 0, 6, 5, 0, 0, 0, 0, 0, 0, 0, 0, 0, 0, 0, 0, 0, 0, 0, 44, 253, 253, 206, 68, 7, 201, 219, 103, 0, 17, 245, 170, 0, 0, 0, 0, 0, 0, 0, 0, 0, 0, 0, 0, 0, 0, 0, 44, 253, 250, 66, 0, 0, 42, 14, 0, 20, 194, 253, 81, 0, 0, 0, 0, 0, 0, 0, 0, 0, 0, 0, 0, 0, 0, 0, 44, 253, 252, 87, 0, 0, 0, 0, 15, 197, 253, 173, 9, 0, 0, 0, 0, 0, 0, 0, 0, 0, 0, 0, 0, 0, 0, 0, 36, 241, 253, 173, 12, 0, 0, 0, 151, 253, 253, 10, 0, 0, 0, 0, 0, 0, 0, 0, 0, 0, 0, 0, 0, 0, 0, 0, 0, 79, 245, 253, 171, 45, 0, 154, 250, 233, 79, 3, 0, 0, 0, 0, 0, 0, 0, 0, 0, 0, 0, 0, 0, 0, 0, 0, 0, 0, 167, 253, 253, 236, 147, 249, 252, 181, 0, 0, 0, 0, 0, 0, 0, 0, 0, 0, 0, 0, 0, 0, 0, 0, 0, 0, 0, 0, 4, 158, 241, 253, 253, 253, 162, 0, 0, 0, 0, 0, 0, 0, 0, 0, 0, 0, 0, 0, 0, 0, 0, 0, 0, 0, 0, 0, 0, 0, 110, 253, 253, 253, 38, 0, 0, 0, 0, 0, 0, 0, 0, 0, 0, 0, 0, 0, 0, 0, 0, 0, 0, 0, 0, 0, 0, 0, 97, 253, 253, 253, 71, 0, 0, 0, 0, 0, 0, 0, 0, 0, 0, 0, 0, 0, 0, 0, 0, 0, 0, 0, 0, 0, 0, 58, 234, 253, 253, 253, 149, 0, 0, 0, 0, 0, 0, 0, 0, 0, 0, 0, 0, 0, 0, 0, 0, 0, 0, 0, 0, 0, 0, 157, 253, 240, 92, 253, 240, 33, 0, 0, 0, 0, 0, 0, 0, 0, 0, 0, 0, 0, 0, 0, 0, 0, 0, 0, 0, 0, 6, 208, 253, 122, 49, 248, 253, 86, 0, 0, 0, 0, 0, 0, 0, 0, 0, 0, 0, 0, 0, 0, 0, 0, 0, 0, 0, 0, 11, 253, 231, 16, 0, 200, 253, 86, 0, 0, 0, 0, 0, 0, 0, 0, 0, 0, 0, 0, 0, 0, 0, 0, 0, 0, 0, 0, 102, 253, 202, 9, 46, 245, 253, 86, 0, 0, 0, 0, 0, 0, 0, 0, 0, 0, 0, 0, 0, 0, 0, 0, 0, 0, 0, 0, 60, 253, 253, 104, 165, 253, 251, 75, 0, 0, 0, 0, 0, 0, 0, 0, 0, 0, 0, 0, 0, 0, 0, 0, 0, 0, 0, 0, 8, 227, 253, 253, 253, 253, 155, 0, 0, 0, 0, 0, 0, 0, 0, 0, 0, 0, 0, 0, 0, 0, 0, 0, 0, 0, 0, 0, 0, 91, 228, 253, 253, 214, 25, 0, 0, 0, 0, 0, 0, 0, 0, 0, 0, 0, 0, 0, 0, 0, 0, 0, 0, 0, 0, 0, 0, 0, 0, 0, 0, 0, 0, 0, 0, 0, 0, 0, 0, 0, 0, 0, 0, 0, 0, 0, 0, 0, 0, 0, 0, 0, 0, 0, 0, 0, 0, 0, 0, 0, 0, 0, 0, 0, 0, 0, 0, 0, 0, 0, 0, 0, 0, 0, 0, 0, 0, 0, 0, 0, 0, 0, 0, 0, 0, 0, 0, 0, 0, 0, 0, 0, 0, 0, 0, 0, 0, 0, 0, 0]\n",
      "Le chiffre representé est : 8\n"
     ]
    }
   ],
   "source": [
    "print(data[23])\n",
    "\n",
    "print('Le chiffre representé est :', target[23])"
   ]
  },
  {
   "cell_type": "markdown",
   "metadata": {},
   "source": [
    "5. Dans la cellule ci-dessous, prendre deux élèments quelconques au choix de notre jeu de données, nommées image1 et image2. calculer alors la distance entre ces deux images et indiquer le chiffre que chacune représente."
   ]
  },
  {
   "cell_type": "code",
   "execution_count": 6,
   "metadata": {},
   "outputs": [
    {
     "name": "stdout",
     "output_type": "stream",
     "text": [
      "35220\n",
      "8\n",
      "8\n"
     ]
    }
   ],
   "source": [
    "i1=23\n",
    "i2=65\n",
    "image1 = data[i1]\n",
    "image2 = data[i2]\n",
    "print(distance(image1,image2))\n",
    "print(target[i1])\n",
    "print(target[i2])"
   ]
  },
  {
   "cell_type": "markdown",
   "metadata": {},
   "source": [
    "## 3. Déterminer les *k* plus proches voisins d'un point\n",
    "\n",
    "### 3.1 Le plus proche voisin\n",
    "\n",
    "6. Écrire une fonction lePlusProcheVoisin qui prend en paramètre une image (toujours une liste de 784 entiers compris entre 0 et 255) et renvoie l'indice dans data du plus proche voisin."
   ]
  },
  {
   "cell_type": "code",
   "execution_count": 7,
   "metadata": {},
   "outputs": [],
   "source": [
    "def lePlusProcheVoisin (image):\n",
    "    lePlusPres = 0\n",
    "    distanceMin = float(\"inf\")\n",
    "    for i in range(len(data)):\n",
    "        di = distance (image, data[i])\n",
    "        if di != 0 and di < distanceMin:\n",
    "            lePlusPres = i\n",
    "            distanceMin = di\n",
    "    return (lePlusPres)"
   ]
  },
  {
   "cell_type": "markdown",
   "metadata": {},
   "source": [
    "7. Appliquer cet algorithme à image1 et image2, et vérifier si l’algorithme a trouvé un voisin qui représente le même chiffre."
   ]
  },
  {
   "cell_type": "code",
   "execution_count": 8,
   "metadata": {},
   "outputs": [
    {
     "name": "stdout",
     "output_type": "stream",
     "text": [
      "8\n",
      "8\n",
      "8\n",
      "8\n"
     ]
    }
   ],
   "source": [
    "indice1 = lePlusProcheVoisin(image1)\n",
    "print(target[indice1])\n",
    "print(target[i1])\n",
    "\n",
    "indice2 = lePlusProcheVoisin(image2)\n",
    "print(target[indice2])\n",
    "print(target[i2])"
   ]
  },
  {
   "cell_type": "markdown",
   "metadata": {},
   "source": [
    "On remarque éventuellement que ce n’est pas forcément parfait, le résultat n’étant pas toujours celui attendu."
   ]
  },
  {
   "cell_type": "markdown",
   "metadata": {},
   "source": [
    "### 3.2 Les *k* plus proches voisins\n",
    "\n",
    "8. Écrire une fonction lesKplusProchesVoisins qui prend en paramètre une image et une valeur de k et renvoie la liste des indices dans data des k plus proches voisins. Quand vous prenez k = 1, cette fonction doit renvoyer le même résultat que la précédente, mis à part le fait que lePlusProcheVoisin renvoie une valeur numérique alors que lesKplusProchesVoisins renvoie une liste d'un élément."
   ]
  },
  {
   "cell_type": "code",
   "execution_count": 9,
   "metadata": {},
   "outputs": [],
   "source": [
    "def lesKplusProchesVoisins (image, k):\n",
    "    listeDesDistances = []\n",
    "    for img in data:\n",
    "        listeDesDistances.append (distance (image, img))\n",
    "    Kppv = []\n",
    "    for i in range (k):\n",
    "        p = float (\"inf\")\n",
    "        for j in range (len (data)):\n",
    "            if listeDesDistances [j] != 0 and listeDesDistances [j] < p and j not in Kppv:\n",
    "                p = listeDesDistances [j]\n",
    "                indice = j\n",
    "        Kppv. append (indice)\n",
    "    return (Kppv)\n"
   ]
  },
  {
   "cell_type": "markdown",
   "metadata": {},
   "source": [
    "9. Exécuter l’algorithme avec image1 et k=5, puis donner la liste des chiffres associés aux images dont l’algorithme donne les indices dans notre base."
   ]
  },
  {
   "cell_type": "code",
   "execution_count": 10,
   "metadata": {},
   "outputs": [
    {
     "name": "stdout",
     "output_type": "stream",
     "text": [
      "[8, 8, 8, 8, 8]\n"
     ]
    }
   ],
   "source": [
    "Kppv = lesKplusProchesVoisins (image1, 5)\n",
    "print([target[indice] for indice in Kppv])"
   ]
  },
  {
   "cell_type": "markdown",
   "metadata": {},
   "source": [
    "## 4. Prédire l'étiquette d'une donnée\n",
    "\n",
    "10. Écrire une fonction *predire* qui prend en paramètres une image dans le même format que celles de data et un entier *k* et retourne le chiffre qui est prédit, c'est à dire le chiffre qui est supposé être représenté sur l'image. On décide du chiffre représenté sur l'image en appliquant un choix à la majorité, à savoir le chiffre qui apparaît majoritairement sur les *k* plus proches voisins. Donner alors la valeur prédite pour image1, toujours pour k=5."
   ]
  },
  {
   "cell_type": "code",
   "execution_count": 11,
   "metadata": {},
   "outputs": [],
   "source": [
    "def predire (l,k):\n",
    "    Kppv = lesKplusProchesVoisins(l,k)\n",
    "    decomptes = [0]*10\n",
    "    for indice in Kppv:\n",
    "        decomptes[target[indice]] += 1\n",
    "    plusGrandDecompte = decomptes [0]\n",
    "    for i in range (1,10):\n",
    "        if decomptes [i] > plusGrandDecompte:\n",
    "                plusGrandDecompte = decomptes [i]\n",
    "                indice = i\n",
    "    return indice\n",
    "\n",
    "print(predire(image1,5))"
   ]
  },
  {
   "cell_type": "markdown",
   "metadata": {},
   "source": [
    "## 5. Optimisation"
   ]
  },
  {
   "cell_type": "markdown",
   "metadata": {},
   "source": [
    "Prenons maintenant un jeu d’images à tester, qui sont en dehors de la base des 5000 images traitées par l’algorithme."
   ]
  },
  {
   "cell_type": "code",
   "execution_count": 13,
   "metadata": {},
   "outputs": [],
   "source": [
    "data_test = [mnist.data[i].astype(int).tolist() for i in sample[5000:]]\n",
    "\n",
    "target_test = [int(mnist.target[i]) for i in sample[5000:]]"
   ]
  },
  {
   "cell_type": "markdown",
   "metadata": {},
   "source": [
    "Notre but est de calculer le taux d’erreur des prédictions, puis de chercher la meilleure valeur de *k* à choisir pour diminuer celui-ci.\n",
    "\n",
    "11. Écrire une fonction qui calcule le taux d’erreur sur les prédictions portant sur le jeu d’images à tester. Exécuter ensuite cette fonction pour une valeur de *k* choisie entre 2 et 7."
   ]
  },
  {
   "cell_type": "code",
   "execution_count": 16,
   "metadata": {},
   "outputs": [
    {
     "data": {
      "text/plain": [
       "0.21"
      ]
     },
     "execution_count": 16,
     "metadata": {},
     "output_type": "execute_result"
    }
   ],
   "source": [
    "def taux_erreur(k):\n",
    "    '''\n",
    "    calcule le taux d'erreur avec la valeur k pour les k plus proches voisins\n",
    "    '''\n",
    "    t=0\n",
    "    n=100#len(target_test)\n",
    "    for i in range(n):\n",
    "        if predire(data_test[i],k)!=target_test[i]:\n",
    "            t+=1\n",
    "    return t/n\n",
    "\n",
    "print(taux_erreur(5))"
   ]
  },
  {
   "cell_type": "markdown",
   "metadata": {},
   "source": [
    "12. Écrire une fonction optimisation(n) qui détermine la valeur de *k*, entre 1 et n, qui minimise le taux d’erreur, puis donner le résultat de cette fonction avec n=7."
   ]
  },
  {
   "cell_type": "code",
   "execution_count": 17,
   "metadata": {},
   "outputs": [
    {
     "name": "stdout",
     "output_type": "stream",
     "text": [
      "4\n"
     ]
    }
   ],
   "source": [
    "def optimisation(n):\n",
    "    '''\n",
    "    détermine quelle valeur de k donne la meilleure prédiction, avec k entre 1 et n\n",
    "    '''\n",
    "    liste_taux=[taux_erreur(k) for k in range(1,n+1)]\n",
    "    return liste_taux.index(min(liste_taux))+1\n",
    "\n",
    "print(optimisation(7))"
   ]
  },
  {
   "cell_type": "code",
   "execution_count": null,
   "metadata": {},
   "outputs": [],
   "source": []
  }
 ],
 "metadata": {
  "kernelspec": {
   "display_name": "Python 3",
   "language": "python",
   "name": "python3"
  },
  "language_info": {
   "codemirror_mode": {
    "name": "ipython",
    "version": 3
   },
   "file_extension": ".py",
   "mimetype": "text/x-python",
   "name": "python",
   "nbconvert_exporter": "python",
   "pygments_lexer": "ipython3",
   "version": "3.7.4"
  }
 },
 "nbformat": 4,
 "nbformat_minor": 2
}
