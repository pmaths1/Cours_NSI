{
 "cells": [
  {
   "cell_type": "markdown",
   "metadata": {},
   "source": [
    "# Algorithme des *k* plus proches voisins\n",
    "Le lien vers [openclassroom](https://openclassrooms.com/fr/courses/4011851-initiez-vous-au-machine-learning/4022441-tp-entrainez-le-modele-des-k-plus-proches-voisins-k-nn)\n",
    "\n",
    "Celui vers le [TP de l'université de Lille donné dans moodle](http://www.grappa.univ-lille3.fr/~ppreux/ensg/miashs/l3-ap/tps/kppv/)\n",
    "\n",
    "L'objectif de ce TP est de faire reconnaître automatiquement par l'ordinateur des chiffres manuscrits (pour lire des chèques par exemple).\n",
    "\n",
    "[Autre site](http://www.math.univ-toulouse.fr/~besse/Wikistat/Notebooks/Atelier1-MNIST-python.html)"
   ]
  },
  {
   "cell_type": "markdown",
   "metadata": {},
   "source": [
    "## 1. Lecture du jeux d'exemples\n",
    "\n",
    "Avant même d'implanter l'algorithme des *k* plus proches voisins, nous avons besoin d'exemples qui seront traités par l'algorithme. Aussi, commençons par lire un jeu de données.\n",
    "\n",
    "Il s'agit un dataset très célèbre appelé MNIST. Il est constitué d'un ensemble de 70000 images 28x28 pixels en noir et blanc annoté du chiffre correspondant (entre 0 et 9).\n",
    "\n",
    "![Un extrait du type d'images que l'on trouve dans le dataset MNIST](extrait MNIST.png)"
   ]
  },
  {
   "cell_type": "code",
   "execution_count": 2,
   "metadata": {},
   "outputs": [],
   "source": [
    "from data_target import data,target # importation des données d'apprentissage\n",
    "\n",
    "from random import randint\n",
    "from PIL import Image"
   ]
  },
  {
   "cell_type": "code",
   "execution_count": 15,
   "metadata": {},
   "outputs": [
    {
     "data": {
      "text/plain": [
       "[512, 514, 543, 496, 508, 468, 502, 529, 469, 459]"
      ]
     },
     "execution_count": 15,
     "metadata": {},
     "output_type": "execute_result"
    }
   ],
   "source": [
    "[target.count(i) for i in range(10)] # Donne le nombre de chaque chiffre dans la base"
   ]
  },
  {
   "cell_type": "code",
   "execution_count": 55,
   "metadata": {},
   "outputs": [],
   "source": [
    "def AfficherImage(image):\n",
    "    img = Image.new('L',(28,28))\n",
    "    pixels=img.load()\n",
    "    for i in range(28):\n",
    "        for j in range(28):\n",
    "            pixels[i,j]=image[j*28+i]\n",
    "    display(img)\n",
    "    img.close()"
   ]
  },
  {
   "cell_type": "code",
   "execution_count": 56,
   "metadata": {},
   "outputs": [
    {
     "name": "stdout",
     "output_type": "stream",
     "text": [
      "3\n"
     ]
    },
    {
     "data": {
      "image/png": "[encoded data removed]",
      "text/plain": [
       "<PIL.Image.Image image mode=L size=28x28 at 0x7FA2BE640BE0>"
      ]
     },
     "metadata": {},
     "output_type": "display_data"
    }
   ],
   "source": [
    "n=randint(0,len(data)-1)\n",
    "image=data[n] # une image, liste de nombres\n",
    "\n",
    "s=target[n]\n",
    "print(s) # le caractère associé à l'image\n",
    "\n",
    "AfficherImage(image)"
   ]
  },
  {
   "cell_type": "markdown",
   "metadata": {},
   "source": [
    "## 2. Déterminer le plus proche voisin d'un point\n",
    "### Distance entre deux images\n",
    "Avant toute chose, il nous faut définir une fonction qui mesure la distance entre deux images. Pour faire les choses les plus simples possibles pour l'instant, définissons une fonction distance qui prend deux images (deux listes de nombres) en paramètre et renvoie la somme des différences de chaque pixel (en valeur absolue)."
   ]
  },
  {
   "cell_type": "code",
   "execution_count": 57,
   "metadata": {},
   "outputs": [],
   "source": [
    "def distance (a, b):\n",
    "    somme = 0\n",
    "    for i in range(784):\n",
    "        somme += abs(a [i] - b [i])\n",
    "    return (somme)"
   ]
  },
  {
   "cell_type": "code",
   "execution_count": 58,
   "metadata": {},
   "outputs": [
    {
     "data": {
      "text/plain": [
       "35263"
      ]
     },
     "execution_count": 58,
     "metadata": {},
     "output_type": "execute_result"
    }
   ],
   "source": [
    "image1 = data[569]\n",
    "image2 = data[65]\n",
    "distance(image1,image2)"
   ]
  },
  {
   "cell_type": "markdown",
   "metadata": {},
   "source": [
    "### Le plus proche voisin\n",
    "Écrire une fonction lePlusProcheVoisin qui prend en paramètre une image (une liste de 784 entiers compris entre 0 et 255) et renvoie l'indice dans data du plus proche voisin."
   ]
  },
  {
   "cell_type": "code",
   "execution_count": 79,
   "metadata": {},
   "outputs": [],
   "source": [
    "def lePlusProcheVoisin (x,from_inside=False):\n",
    "    lePlusPres = 0\n",
    "    distanceMin = float(\"inf\")\n",
    "    for i in range(len(data)):\n",
    "        di = distance (x, data[i])\n",
    "        if (not from_inside or di != 0) and di < distanceMin:\n",
    "            lePlusPres = i\n",
    "            distanceMin = di\n",
    "    return (lePlusPres)"
   ]
  },
  {
   "cell_type": "code",
   "execution_count": 80,
   "metadata": {},
   "outputs": [
    {
     "data": {
      "image/png": "[encoded data removed]",
      "text/plain": [
       "<PIL.Image.Image image mode=L size=28x28 at 0x7FA2BE640390>"
      ]
     },
     "metadata": {},
     "output_type": "display_data"
    }
   ],
   "source": [
    "indice = lePlusProcheVoisin(image,from_inside=True)\n",
    "AfficherImage(data[indice])"
   ]
  },
  {
   "cell_type": "markdown",
   "metadata": {},
   "source": [
    "## 3. Déterminer les *k* plus proches voisins d'un point\n",
    "Écrire une fonction lesKplusProchesVoisins qui prend en paramètre une image et une valeur de k et renvoie la liste des indices dans data des k plus proches voisins.\n",
    "Quand vous prenez k = 1, cette fonction doit renvoyer le même résultat que la précédente, mis à part le fait que lePlusProcheVoisin renvoie une valeur numérique alors que lesKplusProchesVoisins renvoie une liste d'un élément."
   ]
  },
  {
   "cell_type": "code",
   "execution_count": 70,
   "metadata": {},
   "outputs": [],
   "source": [
    "def lesKplusProchesVoisins (x, k):\n",
    "    \n",
    "    def lt(e1,e2):\n",
    "        return e1[1]<=e2[1]\n",
    "    \n",
    "    def InsertionTrieeLimitee(e,l,limit):\n",
    "        if limit>0:\n",
    "            if l==[]:\n",
    "                return [e]\n",
    "            else:\n",
    "                if lt(e,l[0]):\n",
    "                    return [e]+l[:min(limit-1,len(l))]\n",
    "                else:\n",
    "                    return [l[0]]+InsertionTrieeLimitee(e,l[1:],limit-1)\n",
    "        else:\n",
    "            return []\n",
    "    \n",
    "    kppv=[]\n",
    "    for i in range(len(data)):\n",
    "        kppv=InsertionTrieeLimitee((i,distance(data[i],x)),kppv,k)\n",
    "    return [e[0] for e in kppv]"
   ]
  },
  {
   "cell_type": "code",
   "execution_count": 71,
   "metadata": {},
   "outputs": [
    {
     "data": {
      "image/png": "[encoded data removed]",
      "text/plain": [
       "<PIL.Image.Image image mode=L size=28x28 at 0x7FA2BE66FF60>"
      ]
     },
     "metadata": {},
     "output_type": "display_data"
    },
    {
     "data": {
      "image/png": "[encoded data removed]",
      "text/plain": [
       "<PIL.Image.Image image mode=L size=28x28 at 0x7FA2BE66FF60>"
      ]
     },
     "metadata": {},
     "output_type": "display_data"
    },
    {
     "data": {
      "image/png": "[encoded data removed]",
      "text/plain": [
       "<PIL.Image.Image image mode=L size=28x28 at 0x7FA2BE66FF60>"
      ]
     },
     "metadata": {},
     "output_type": "display_data"
    },
    {
     "data": {
      "image/png": "[encoded data removed]",
      "text/plain": [
       "<PIL.Image.Image image mode=L size=28x28 at 0x7FA2BE66FF60>"
      ]
     },
     "metadata": {},
     "output_type": "display_data"
    },
    {
     "data": {
      "image/png": "[encoded data removed]",
      "text/plain": [
       "<PIL.Image.Image image mode=L size=28x28 at 0x7FA2BE66FF60>"
      ]
     },
     "metadata": {},
     "output_type": "display_data"
    }
   ],
   "source": [
    "Kppv = lesKplusProchesVoisins (image, 5)\n",
    "for indice in Kppv:\n",
    "    AfficherImage(data[indice])"
   ]
  },
  {
   "cell_type": "markdown",
   "metadata": {},
   "source": [
    "## 4. Prédire l'étiquette d'une donnée\n",
    "\n",
    "Écrire une fonction *predire* qui prend en paramètre une image dans le même format que celles de data et un entier *k* et retourne le chiffre qui est prédit, c'est à dire le chiffre qui est supposé être représenté sur l'iamge.\n",
    "On décide du chiffre représenté sur l'image en appliquant un choix à la majorité, à savoir le chiffre qui apparaît majoritairement sur les *k* plus proches voisins."
   ]
  },
  {
   "cell_type": "code",
   "execution_count": 72,
   "metadata": {},
   "outputs": [],
   "source": [
    "def predire (l,k):\n",
    "    Kppv = lesKplusProchesVoisins(l,k)\n",
    "    decomptes = [0]*10\n",
    "    for indice in Kppv:\n",
    "        decomptes[target[indice]] += 1\n",
    "    plusGrandDecompte = decomptes [0]\n",
    "    for i in range (1,10):\n",
    "        if decomptes [i] > plusGrandDecompte:\n",
    "                plusGrandDecompte = decomptes [i]\n",
    "                indice = i\n",
    "    return (indice)"
   ]
  },
  {
   "cell_type": "code",
   "execution_count": 91,
   "metadata": {},
   "outputs": [
    {
     "data": {
      "image/png": "[encoded data removed]",
      "text/plain": [
       "<PIL.PpmImagePlugin.PpmImageFile image mode=L size=28x28 at 0x7FA2BE62E6A0>"
      ]
     },
     "metadata": {},
     "output_type": "display_data"
    },
    {
     "data": {
      "image/png": "[encoded data removed]",
      "text/plain": [
       "<PIL.Image.Image image mode=L size=28x28 at 0x7FA2BE66F6D8>"
      ]
     },
     "metadata": {},
     "output_type": "display_data"
    },
    {
     "data": {
      "image/png": "[encoded data removed]",
      "text/plain": [
       "<PIL.Image.Image image mode=L size=28x28 at 0x7FA2BE66F6D8>"
      ]
     },
     "metadata": {},
     "output_type": "display_data"
    },
    {
     "data": {
      "image/png": "[encoded data removed]",
      "text/plain": [
       "<PIL.Image.Image image mode=L size=28x28 at 0x7FA2BE66F6D8>"
      ]
     },
     "metadata": {},
     "output_type": "display_data"
    },
    {
     "data": {
      "image/png": "[encoded data removed]",
      "text/plain": [
       "<PIL.Image.Image image mode=L size=28x28 at 0x7FA2BE66F6D8>"
      ]
     },
     "metadata": {},
     "output_type": "display_data"
    },
    {
     "data": {
      "image/png": "[encoded data removed]",
      "text/plain": [
       "<PIL.Image.Image image mode=L size=28x28 at 0x7FA2BE66F6D8>"
      ]
     },
     "metadata": {},
     "output_type": "display_data"
    },
    {
     "data": {
      "text/plain": [
       "1"
      ]
     },
     "execution_count": 91,
     "metadata": {},
     "output_type": "execute_result"
    }
   ],
   "source": [
    "img=Image.open('Scan_image.pgm') # Image enregistrée en brut sous gimp\n",
    "image=list(img.getdata())\n",
    "display(img)\n",
    "img.close()\n",
    "\n",
    "Kppv = lesKplusProchesVoisins (image, 5)\n",
    "for indice in Kppv:\n",
    "    AfficherImage(data[indice])\n",
    "\n",
    "predire(image,10)"
   ]
  },
  {
   "cell_type": "markdown",
   "metadata": {},
   "source": [
    "## 5. Optimisation"
   ]
  },
  {
   "cell_type": "code",
   "execution_count": 86,
   "metadata": {},
   "outputs": [],
   "source": [
    "from data_target_test import data_test,target_test\n",
    "\n",
    "def taux_erreur(k):\n",
    "    '''\n",
    "    calcule le taux d'erreur avec la valeur k pour les k plus proches voisins\n",
    "    '''\n",
    "    t=0\n",
    "    n=100 #len(target_test)\n",
    "    for i in range(n):\n",
    "        if predire(data_test[i],k)!=target_test[i]:\n",
    "            t+=1\n",
    "    return t/n\n",
    "\n",
    "def optimisation(n):\n",
    "    '''\n",
    "    détermine quelle valeur de k donne la meilleure prédiction, avec k entre 2 et n\n",
    "    '''\n",
    "    liste_taux=[taux_erreur(k) for k in range(2,n+1)]\n",
    "    return liste_taux.index(min(liste_taux))+2"
   ]
  },
  {
   "cell_type": "code",
   "execution_count": 87,
   "metadata": {},
   "outputs": [
    {
     "data": {
      "text/plain": [
       "0.19"
      ]
     },
     "execution_count": 87,
     "metadata": {},
     "output_type": "execute_result"
    }
   ],
   "source": [
    "taux_erreur(5)"
   ]
  },
  {
   "cell_type": "code",
   "execution_count": 92,
   "metadata": {},
   "outputs": [
    {
     "data": {
      "text/plain": [
       "2"
      ]
     },
     "execution_count": 92,
     "metadata": {},
     "output_type": "execute_result"
    }
   ],
   "source": [
    "optimisation(6)"
   ]
  }
 ],
 "metadata": {
  "kernelspec": {
   "display_name": "Python 3",
   "language": "python",
   "name": "python3"
  },
  "language_info": {
   "codemirror_mode": {
    "name": "ipython",
    "version": 3
   },
   "file_extension": ".py",
   "mimetype": "text/x-python",
   "name": "python",
   "nbconvert_exporter": "python",
   "pygments_lexer": "ipython3",
   "version": "3.7.3rc1"
  }
 },
 "nbformat": 4,
 "nbformat_minor": 2
}
